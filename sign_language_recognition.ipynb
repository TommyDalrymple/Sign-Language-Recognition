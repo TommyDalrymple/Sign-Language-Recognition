{
  "cells": [
    {
      "cell_type": "markdown",
      "metadata": {
        "id": "dNPDyIjNfKqW"
      },
      "source": [
        "\n",
        "\n",
        "---\n",
        "\n",
        "\n",
        "# Sign Language Recognition - Final Project\n",
        "**Author: Thomas Dalrymple**\n",
        "\n",
        "\n",
        "> The aspects of this project\n",
        "1. Creating a data set\n",
        "2. Training a CNN and getting a benchmark accuracy\n",
        "3. Training an improved CNN model and getting a resulting accuracy\n",
        "4. Comparing the accuracies of the two models\n",
        "\n",
        "\n",
        "\n",
        "\n",
        "\n",
        "---\n",
        "\n"
      ]
    },
    {
      "cell_type": "markdown",
      "metadata": {
        "id": "kCo4JvsEJHmV"
      },
      "source": [
        "# Imports\n",
        "\n",
        "\n",
        "---\n",
        "\n"
      ]
    },
    {
      "cell_type": "code",
      "execution_count": 3,
      "metadata": {
        "id": "6d1PfFn1JOWi"
      },
      "outputs": [],
      "source": [
        "import cv2\n",
        "import numpy as np\n",
        "import tensorflow as tf\n",
        "from tensorflow import keras\n",
        "from keras.models import Sequential\n",
        "from keras.layers import Activation, Dense, Flatten, Conv2D, MaxPool2D, Dropout\n",
        "from keras.metrics import categorical_crossentropy\n",
        "from keras.preprocessing.image import ImageDataGenerator\n",
        "import itertools\n",
        "import random\n",
        "import warnings\n",
        "import matplotlib.pyplot as plt\n",
        "from keras.callbacks import ReduceLROnPlateau\n",
        "from keras.callbacks import ModelCheckpoint, EarlyStopping\n",
        "warnings.simplefilter(action='ignore', category=FutureWarning)"
      ]
    },
    {
      "cell_type": "markdown",
      "metadata": {
        "id": "7DekoTqJyxZI"
      },
      "source": [
        "# **Create the Gesture Data**\n",
        "\n",
        "\n",
        "---\n",
        "\n",
        "> Creates the train data and test data.\n",
        "\n",
        "Code obtained from:\n",
        "Sign language recognition using python and opencv. DataFlair. (2021, August 25). Retrieved March 3, 2022, from https://data-flair.training/blogs/sign-language-recognition-python-ml-opencv/ \n",
        "\n"
      ]
    },
    {
      "cell_type": "code",
      "execution_count": null,
      "metadata": {
        "id": "6-DX9BaOxDVN"
      },
      "outputs": [],
      "source": [
        "background = None\n",
        "accumulated_weight = 0.5\n",
        "\n",
        "ROI_top = 100\n",
        "ROI_bottom = 300\n",
        "ROI_right = 150\n",
        "ROI_left = 350\n",
        "\n",
        "\n",
        "def cal_accum_avg(frame, accumulated_weight):\n",
        "\n",
        "    global background\n",
        "    \n",
        "    if background is None:\n",
        "        background = frame.copy().astype(\"float\")\n",
        "        return None\n",
        "\n",
        "    cv2.accumulateWeighted(frame, background, accumulated_weight)\n",
        "\n",
        "\n",
        "def segment_hand(frame, threshold=25):\n",
        "    global background\n",
        "    \n",
        "    diff = cv2.absdiff(background.astype(\"uint8\"), frame)\n",
        "\n",
        "    _ , thresholded = cv2.threshold(diff, threshold, 255, cv2.THRESH_BINARY)\n",
        "\n",
        "    # Grab the external contours for the image\n",
        "    contours, hierarchy = cv2.findContours(thresholded.copy(), cv2.RETR_EXTERNAL, cv2.CHAIN_APPROX_SIMPLE)\n",
        "\n",
        "    if len(contours) == 0:\n",
        "        return None\n",
        "    else:\n",
        "        \n",
        "        hand_segment_max_cont = max(contours, key=cv2.contourArea)\n",
        "        \n",
        "        return (thresholded, hand_segment_max_cont)\n",
        "\n",
        "\n",
        "cam = cv2.VideoCapture(0)\n",
        "\n",
        "num_frames = 0\n",
        "element = 10\n",
        "num_imgs_taken = 0\n",
        "\n",
        "while True:\n",
        "    ret, frame = cam.read()\n",
        "\n",
        "    # filpping the frame to prevent inverted image of captured frame...\n",
        "    frame = cv2.flip(frame, 1)\n",
        "\n",
        "    frame_copy = frame.copy()\n",
        "\n",
        "    roi = frame[ROI_top:ROI_bottom, ROI_right:ROI_left]\n",
        "\n",
        "    gray_frame = cv2.cvtColor(roi, cv2.COLOR_BGR2GRAY)\n",
        "    gray_frame = cv2.GaussianBlur(gray_frame, (9, 9), 0)\n",
        "\n",
        "    if num_frames < 60:\n",
        "        cal_accum_avg(gray_frame, accumulated_weight)\n",
        "        if num_frames <= 59:\n",
        "            \n",
        "            cv2.putText(frame_copy, \"FETCHING BACKGROUND...PLEASE WAIT\", (80, 400), cv2.FONT_HERSHEY_SIMPLEX, 0.9, (0,0,255), 2)\n",
        "         \n",
        "    #Time to configure the hand specifically into the ROI...\n",
        "    elif num_frames <= 300: \n",
        "\n",
        "        hand = segment_hand(gray_frame)\n",
        "        \n",
        "        cv2.putText(frame_copy, \"Adjust hand...Gesture for\" + str(element), (200, 400), cv2.FONT_HERSHEY_SIMPLEX, 1, (0,0,255), 2)\n",
        "        \n",
        "        # Checking if hand is actually detected by counting number of contours detected...\n",
        "        if hand is not None:\n",
        "            \n",
        "            thresholded, hand_segment = hand\n",
        "\n",
        "            # Draw contours around hand segment\n",
        "            cv2.drawContours(frame_copy, [hand_segment + (ROI_right, ROI_top)], -1, (255, 0, 0),1)\n",
        "            \n",
        "            cv2.putText(frame_copy, str(num_frames)+\"For\" + str(element), (70, 45), cv2.FONT_HERSHEY_SIMPLEX, 1, (0,0,255), 2)\n",
        "\n",
        "            # Also display the thresholded image\n",
        "            cv2.imshow(\"Thresholded Hand Image\", thresholded)\n",
        "    \n",
        "    else: \n",
        "        \n",
        "        # Segmenting the hand region...\n",
        "        hand = segment_hand(gray_frame)\n",
        "        \n",
        "        # Checking if we are able to detect the hand...\n",
        "        if hand is not None:\n",
        "            \n",
        "            # unpack the thresholded img and the max_contour...\n",
        "            thresholded, hand_segment = hand\n",
        "\n",
        "            # Drawing contours around hand segment\n",
        "            cv2.drawContours(frame_copy, [hand_segment + (ROI_right, ROI_top)], -1, (255, 0, 0),1)\n",
        "            \n",
        "            cv2.putText(frame_copy, str(num_frames), (70, 45), cv2.FONT_HERSHEY_SIMPLEX, 1, (0,0,255), 2)\n",
        "            cv2.putText(frame_copy, str(num_imgs_taken) + 'images' +\"For\" + str(element), (200, 400), cv2.FONT_HERSHEY_SIMPLEX, 1, (0,0,255), 2)\n",
        "            \n",
        "            # Displaying the thresholded image\n",
        "            cv2.imshow(\"Thresholded Hand Image\", thresholded)\n",
        "            if num_imgs_taken <= 300:\n",
        "                # insert path for images\n",
        "                cv2.imwrite(r\"C:\\\\Users\\\\\" + str(num_imgs_taken) + '.jpg', thresholded)\n",
        "            else:\n",
        "                break\n",
        "            num_imgs_taken +=1\n",
        "        else:\n",
        "            cv2.putText(frame_copy, 'No hand detected...', (200, 400), cv2.FONT_HERSHEY_SIMPLEX, 1, (0,0,255), 2)\n",
        "\n",
        "    # Drawing ROI on frame copy\n",
        "    cv2.rectangle(frame_copy, (ROI_left, ROI_top), (ROI_right, ROI_bottom), (255,128,0), 3)\n",
        "    \n",
        "    cv2.putText(frame_copy, \"DataFlair hand sign recognition_ _ _\", (10, 20), cv2.FONT_ITALIC, 0.5, (51,255,51), 1)\n",
        "    \n",
        "    # increment the number of frames for tracking\n",
        "    num_frames += 1\n",
        "\n",
        "    # Display the frame with segmented hand\n",
        "    cv2.imshow(\"Sign Detection\", frame_copy)\n",
        "\n",
        "    # Closing windows with Esc key...(any other key with ord can be used too.)\n",
        "    k = cv2.waitKey(1) & 0xFF\n",
        "\n",
        "    if k == 27:\n",
        "        break\n",
        "\n",
        "# Releasing camera & destroying all the windows...\n",
        "\n",
        "cv2.destroyAllWindows()\n",
        "cam.release()"
      ]
    },
    {
      "cell_type": "markdown",
      "metadata": {
        "id": "PVQYUmTgUQfe"
      },
      "source": [
        "# Load Data Set\n",
        "\n",
        "\n",
        "---\n",
        "> Obtain the data set from google drive and plot the images.\n",
        "\n",
        "\n",
        "\n",
        "\n"
      ]
    },
    {
      "cell_type": "code",
      "execution_count": 5,
      "metadata": {
        "colab": {
          "base_uri": "https://localhost:8080/",
          "height": 551
        },
        "id": "nD_HxIqvUbCb",
        "outputId": "51acf31e-03a9-43e2-8d09-9f537103bf94"
      },
      "outputs": [
        {
          "name": "stdout",
          "output_type": "stream",
          "text": [
            "Drive already mounted at /content/drive; to attempt to forcibly remount, call drive.mount(\"/content/drive\", force_remount=True).\n",
            "Found 3010 images belonging to 10 classes.\n",
            "Found 210 images belonging to 10 classes.\n"
          ]
        },
        {
          "name": "stderr",
          "output_type": "stream",
          "text": [
            "Clipping input data to the valid range for imshow with RGB data ([0..1] for floats or [0..255] for integers).\n",
            "Clipping input data to the valid range for imshow with RGB data ([0..1] for floats or [0..255] for integers).\n",
            "Clipping input data to the valid range for imshow with RGB data ([0..1] for floats or [0..255] for integers).\n",
            "Clipping input data to the valid range for imshow with RGB data ([0..1] for floats or [0..255] for integers).\n",
            "Clipping input data to the valid range for imshow with RGB data ([0..1] for floats or [0..255] for integers).\n",
            "Clipping input data to the valid range for imshow with RGB data ([0..1] for floats or [0..255] for integers).\n",
            "Clipping input data to the valid range for imshow with RGB data ([0..1] for floats or [0..255] for integers).\n",
            "Clipping input data to the valid range for imshow with RGB data ([0..1] for floats or [0..255] for integers).\n",
            "Clipping input data to the valid range for imshow with RGB data ([0..1] for floats or [0..255] for integers).\n",
            "Clipping input data to the valid range for imshow with RGB data ([0..1] for floats or [0..255] for integers).\n"
          ]
        },
        {
          "data": {
            "image/png": "[encoded data removed]",
            "text/plain": [
              "<Figure size 2160x1440 with 10 Axes>"
            ]
          },
          "metadata": {
            "needs_background": "light"
          },
          "output_type": "display_data"
        },
        {
          "name": "stdout",
          "output_type": "stream",
          "text": [
            "shape (10, 64, 64, 3)\n",
            "labels [[0. 0. 0. 0. 0. 1. 0. 0. 0. 0.]\n",
            " [0. 0. 0. 0. 0. 0. 1. 0. 0. 0.]\n",
            " [0. 0. 0. 0. 0. 0. 0. 0. 0. 1.]\n",
            " [0. 0. 0. 1. 0. 0. 0. 0. 0. 0.]\n",
            " [0. 0. 0. 1. 0. 0. 0. 0. 0. 0.]\n",
            " [0. 0. 0. 0. 0. 0. 0. 0. 1. 0.]\n",
            " [0. 0. 0. 0. 0. 0. 1. 0. 0. 0.]\n",
            " [0. 0. 0. 0. 0. 0. 0. 1. 0. 0.]\n",
            " [0. 0. 0. 1. 0. 0. 0. 0. 0. 0.]\n",
            " [0. 0. 0. 0. 0. 0. 0. 1. 0. 0.]]\n"
          ]
        }
      ],
      "source": [
        "# mount google drive\n",
        "from google.colab import drive\n",
        "drive.mount('/content/drive')\n",
        "\n",
        "train_path = '/content/drive/My Drive/Colab Notebooks/' # insert correct path to train images\n",
        "test_path = '/content/drive/My Drive/Colab Notebooks/' # insert correct path to test images\n",
        "\n",
        "train_batches = ImageDataGenerator(preprocessing_function=tf.keras.applications.vgg16.preprocess_input).flow_from_directory(directory=train_path, target_size=(64,64), class_mode='categorical', batch_size=10,shuffle=True)\n",
        "test_batches = ImageDataGenerator(preprocessing_function=tf.keras.applications.vgg16.preprocess_input).flow_from_directory(directory=test_path, target_size=(64,64), class_mode='categorical', batch_size=10, shuffle=True)\n",
        "\n",
        "# imgs, labels = next(train_batches)\n",
        "train_imgs, train_labels = next(train_batches)\n",
        "test_imgs, test_labels = next(train_batches)\n",
        "\n",
        "#Plotting the images...\n",
        "def plotImages(images_arr):\n",
        "    fig, axes = plt.subplots(1, 10, figsize=(30,20))\n",
        "    axes = axes.flatten()\n",
        "    for img, ax in zip( images_arr, axes):\n",
        "        img = cv2.cvtColor(img, cv2.COLOR_BGR2RGB)\n",
        "        ax.imshow(img)\n",
        "        ax.axis('off')\n",
        "    plt.tight_layout()\n",
        "    plt.show()\n",
        "\n",
        "\n",
        "plotImages(train_imgs)\n",
        "print('shape', train_imgs.shape)\n",
        "print('labels', train_labels)"
      ]
    },
    {
      "cell_type": "markdown",
      "metadata": {
        "id": "3VecO4fDzy3R"
      },
      "source": [
        "# Train the CNN model\n",
        "\n",
        "\n",
        "---\n",
        "\n",
        "\n",
        "\n"
      ]
    },
    {
      "cell_type": "code",
      "execution_count": 6,
      "metadata": {
        "colab": {
          "base_uri": "https://localhost:8080/"
        },
        "id": "q5TPuftYcVRv",
        "outputId": "503006ad-3205-4414-ae52-0908b95f822e"
      },
      "outputs": [
        {
          "name": "stdout",
          "output_type": "stream",
          "text": [
            "Model: \"sequential\"\n",
            "_________________________________________________________________\n",
            " Layer (type)                Output Shape              Param #   \n",
            "=================================================================\n",
            " conv2d (Conv2D)             (None, 64, 64, 32)        2432      \n",
            "                                                                 \n",
            " activation (Activation)     (None, 64, 64, 32)        0         \n",
            "                                                                 \n",
            " max_pooling2d (MaxPooling2D  (None, 32, 32, 32)       0         \n",
            " )                                                               \n",
            "                                                                 \n",
            " flatten (Flatten)           (None, 32768)             0         \n",
            "                                                                 \n",
            " dense (Dense)               (None, 512)               16777728  \n",
            "                                                                 \n",
            " activation_1 (Activation)   (None, 512)               0         \n",
            "                                                                 \n",
            " dense_1 (Dense)             (None, 10)                5130      \n",
            "                                                                 \n",
            " activation_2 (Activation)   (None, 10)                0         \n",
            "                                                                 \n",
            "=================================================================\n",
            "Total params: 16,785,290\n",
            "Trainable params: 16,785,290\n",
            "Non-trainable params: 0\n",
            "_________________________________________________________________\n",
            "None\n"
          ]
        }
      ],
      "source": [
        "model = Sequential()\n",
        "\n",
        "model.add(Conv2D(32, (5, 5), padding='same',input_shape=train_imgs.shape[1:]))\n",
        "model.add(Activation('relu'))\n",
        "\n",
        "model.add(MaxPool2D(pool_size=(2, 2)))\n",
        "\n",
        "# flatten to make the output 2D\n",
        "model.add(Flatten())\n",
        "model.add(Dense(512))\n",
        "model.add(Activation('relu'))\n",
        "\n",
        "# Output layer\n",
        "model.add(Dense(10))\n",
        "model.add(Activation('softmax'))\n",
        "\n",
        "opt = keras.optimizers.RMSprop(learning_rate=0.0001, decay=1e-6)\n",
        "\n",
        "model.compile(loss='categorical_crossentropy',\n",
        "              optimizer=opt,\n",
        "              metrics=['accuracy'])\n",
        "\n",
        "print(model.summary())"
      ]
    },
    {
      "cell_type": "markdown",
      "metadata": {
        "id": "fDD48Vc0e6bl"
      },
      "source": [
        "# Test the CNN model\n",
        "\n",
        "---\n",
        "\n",
        "\n",
        "> This will be treated as the benchmark accuracy.\n",
        "\n",
        "\n",
        "\n",
        "\n"
      ]
    },
    {
      "cell_type": "code",
      "execution_count": 8,
      "metadata": {
        "colab": {
          "base_uri": "https://localhost:8080/",
          "height": 937
        },
        "id": "yil1q8vqqys_",
        "outputId": "6f66f400-90a7-49b4-da32-d998d49d6a4d"
      },
      "outputs": [
        {
          "name": "stdout",
          "output_type": "stream",
          "text": [
            "Epoch 1/10\n",
            "301/301 [==============================] - 143s 476ms/step - loss: 3.9604e-11 - accuracy: 1.0000 - val_loss: 109.9483 - val_accuracy: 0.4048\n",
            "Epoch 2/10\n",
            "301/301 [==============================] - 76s 251ms/step - loss: 0.0000e+00 - accuracy: 1.0000 - val_loss: 109.9544 - val_accuracy: 0.4048\n",
            "Epoch 3/10\n",
            "301/301 [==============================] - 75s 249ms/step - loss: 0.0000e+00 - accuracy: 1.0000 - val_loss: 109.9597 - val_accuracy: 0.4048\n",
            "Epoch 4/10\n",
            "301/301 [==============================] - 74s 246ms/step - loss: 0.0000e+00 - accuracy: 1.0000 - val_loss: 109.9643 - val_accuracy: 0.4048\n",
            "Epoch 5/10\n",
            "301/301 [==============================] - 75s 250ms/step - loss: 0.0000e+00 - accuracy: 1.0000 - val_loss: 109.9685 - val_accuracy: 0.4048\n",
            "Epoch 6/10\n",
            "301/301 [==============================] - 76s 252ms/step - loss: 0.0000e+00 - accuracy: 1.0000 - val_loss: 109.9723 - val_accuracy: 0.4048\n",
            "Epoch 7/10\n",
            "301/301 [==============================] - 82s 273ms/step - loss: 0.0000e+00 - accuracy: 1.0000 - val_loss: 109.9757 - val_accuracy: 0.4048\n",
            "Epoch 8/10\n",
            "301/301 [==============================] - 75s 248ms/step - loss: 0.0000e+00 - accuracy: 1.0000 - val_loss: 109.9789 - val_accuracy: 0.4048\n",
            "Epoch 9/10\n",
            "301/301 [==============================] - 74s 245ms/step - loss: 0.0000e+00 - accuracy: 1.0000 - val_loss: 109.9818 - val_accuracy: 0.4048\n",
            "Epoch 10/10\n",
            "301/301 [==============================] - 73s 244ms/step - loss: 0.0000e+00 - accuracy: 1.0000 - val_loss: 109.9845 - val_accuracy: 0.4048\n"
          ]
        },
        {
          "data": {
            "image/png": "[encoded data removed]",
            "text/plain": [
              "<Figure size 432x288 with 1 Axes>"
            ]
          },
          "metadata": {
            "needs_background": "light"
          },
          "output_type": "display_data"
        },
        {
          "data": {
            "image/png": "[encoded data removed]",
            "text/plain": [
              "<Figure size 432x288 with 1 Axes>"
            ]
          },
          "metadata": {
            "needs_background": "light"
          },
          "output_type": "display_data"
        },
        {
          "name": "stdout",
          "output_type": "stream",
          "text": [
            "Test accuracy for CNN: 0.4047619104385376\n"
          ]
        }
      ],
      "source": [
        "history = model.fit(train_batches,\n",
        "                    epochs=10,\n",
        "                    validation_data = test_batches)\n",
        "\n",
        "# Plot training accuracy\n",
        "plt.plot(history.history['accuracy'], 'o-', label='CNN')\n",
        "plt.title('training accuracy')\n",
        "plt.ylabel('training accuracy')\n",
        "plt.xlabel('epoch')\n",
        "plt.legend(loc='lower right')\n",
        "plt.show()\n",
        "\n",
        "# Plot validation accuracy\n",
        "plt.plot(history.history['val_accuracy'], 'o-', label='CNN')\n",
        "plt.title('validation accuracy')\n",
        "plt.ylabel('validation accuracy')\n",
        "plt.xlabel('epoch')\n",
        "plt.legend(loc='lower right')\n",
        "plt.show()\n",
        "\n",
        "print('Test accuracy for CNN: {}'.format(history.history['val_accuracy'][9]))"
      ]
    },
    {
      "cell_type": "markdown",
      "metadata": {
        "id": "3XXQhR1QwzR3"
      },
      "source": [
        "# Improved CNN Model\n",
        "\n",
        "\n",
        "---\n",
        "\n"
      ]
    },
    {
      "cell_type": "code",
      "execution_count": 9,
      "metadata": {
        "colab": {
          "base_uri": "https://localhost:8080/"
        },
        "id": "za8VbJAEw8Vf",
        "outputId": "527b610f-ff80-474b-861d-2c495e30854a"
      },
      "outputs": [
        {
          "name": "stdout",
          "output_type": "stream",
          "text": [
            "Model: \"sequential_1\"\n",
            "_________________________________________________________________\n",
            " Layer (type)                Output Shape              Param #   \n",
            "=================================================================\n",
            " conv2d_1 (Conv2D)           (None, 64, 64, 32)        896       \n",
            "                                                                 \n",
            " activation_3 (Activation)   (None, 64, 64, 32)        0         \n",
            "                                                                 \n",
            " conv2d_2 (Conv2D)           (None, 64, 64, 32)        9248      \n",
            "                                                                 \n",
            " activation_4 (Activation)   (None, 64, 64, 32)        0         \n",
            "                                                                 \n",
            " max_pooling2d_1 (MaxPooling  (None, 32, 32, 32)       0         \n",
            " 2D)                                                             \n",
            "                                                                 \n",
            " dropout (Dropout)           (None, 32, 32, 32)        0         \n",
            "                                                                 \n",
            " conv2d_3 (Conv2D)           (None, 32, 32, 64)        18496     \n",
            "                                                                 \n",
            " activation_5 (Activation)   (None, 32, 32, 64)        0         \n",
            "                                                                 \n",
            " conv2d_4 (Conv2D)           (None, 32, 32, 64)        36928     \n",
            "                                                                 \n",
            " activation_6 (Activation)   (None, 32, 32, 64)        0         \n",
            "                                                                 \n",
            " max_pooling2d_2 (MaxPooling  (None, 16, 16, 64)       0         \n",
            " 2D)                                                             \n",
            "                                                                 \n",
            " dropout_1 (Dropout)         (None, 16, 16, 64)        0         \n",
            "                                                                 \n",
            " conv2d_5 (Conv2D)           (None, 16, 16, 64)        36928     \n",
            "                                                                 \n",
            " activation_7 (Activation)   (None, 16, 16, 64)        0         \n",
            "                                                                 \n",
            " conv2d_6 (Conv2D)           (None, 16, 16, 64)        36928     \n",
            "                                                                 \n",
            " activation_8 (Activation)   (None, 16, 16, 64)        0         \n",
            "                                                                 \n",
            " max_pooling2d_3 (MaxPooling  (None, 8, 8, 64)         0         \n",
            " 2D)                                                             \n",
            "                                                                 \n",
            " dropout_2 (Dropout)         (None, 8, 8, 64)          0         \n",
            "                                                                 \n",
            " conv2d_7 (Conv2D)           (None, 8, 8, 64)          36928     \n",
            "                                                                 \n",
            " activation_9 (Activation)   (None, 8, 8, 64)          0         \n",
            "                                                                 \n",
            " conv2d_8 (Conv2D)           (None, 8, 8, 64)          36928     \n",
            "                                                                 \n",
            " activation_10 (Activation)  (None, 8, 8, 64)          0         \n",
            "                                                                 \n",
            " max_pooling2d_4 (MaxPooling  (None, 4, 4, 64)         0         \n",
            " 2D)                                                             \n",
            "                                                                 \n",
            " dropout_3 (Dropout)         (None, 4, 4, 64)          0         \n",
            "                                                                 \n",
            " flatten_1 (Flatten)         (None, 1024)              0         \n",
            "                                                                 \n",
            " dense_2 (Dense)             (None, 512)               524800    \n",
            "                                                                 \n",
            " activation_11 (Activation)  (None, 512)               0         \n",
            "                                                                 \n",
            " dropout_4 (Dropout)         (None, 512)               0         \n",
            "                                                                 \n",
            " dense_3 (Dense)             (None, 10)                5130      \n",
            "                                                                 \n",
            " activation_12 (Activation)  (None, 10)                0         \n",
            "                                                                 \n",
            "=================================================================\n",
            "Total params: 743,210\n",
            "Trainable params: 743,210\n",
            "Non-trainable params: 0\n",
            "_________________________________________________________________\n",
            "None\n"
          ]
        }
      ],
      "source": [
        "model = Sequential()\n",
        "\n",
        "# first stack\n",
        "model.add(Conv2D(32, (3, 3), padding='same',input_shape=train_imgs.shape[1:]))\n",
        "model.add(Activation('relu'))\n",
        "model.add(Conv2D(32, (3, 3), padding='same'))\n",
        "model.add(Activation('relu'))\n",
        "\n",
        "model.add(MaxPool2D(pool_size=(2, 2)))\n",
        "\n",
        "model.add(Dropout(0.25))\n",
        "\n",
        "# second stack\n",
        "model.add(Conv2D(64, (3, 3), padding='same'))\n",
        "model.add(Activation('relu'))\n",
        "model.add(Conv2D(64, (3, 3), padding='same'))\n",
        "model.add(Activation('relu'))\n",
        "\n",
        "model.add(MaxPool2D(pool_size=(2, 2)))\n",
        "model.add(Dropout(0.25))\n",
        "\n",
        "# third stack\n",
        "model.add(Conv2D(64, (3, 3), padding='same'))\n",
        "model.add(Activation('relu'))\n",
        "model.add(Conv2D(64, (3, 3), padding='same'))\n",
        "model.add(Activation('relu'))\n",
        "\n",
        "model.add(MaxPool2D(pool_size=(2, 2)))\n",
        "model.add(Dropout(0.25))\n",
        "\n",
        "# fourth stack\n",
        "model.add(Conv2D(64, (3, 3), padding='same'))\n",
        "model.add(Activation('relu'))\n",
        "model.add(Conv2D(64, (3, 3), padding='same'))\n",
        "model.add(Activation('relu'))\n",
        "\n",
        "model.add(MaxPool2D(pool_size=(2, 2)))\n",
        "model.add(Dropout(0.25))\n",
        "\n",
        "# flatten to make the output 2D\n",
        "model.add(Flatten())\n",
        "model.add(Dense(512))\n",
        "model.add(Activation('relu'))\n",
        "model.add(Dropout(0.5))\n",
        "\n",
        "# Output layer\n",
        "model.add(Dense(10))\n",
        "model.add(Activation('softmax'))\n",
        "\n",
        "opt = 'Adam'\n",
        "\n",
        "model.compile(loss='categorical_crossentropy',\n",
        "              optimizer=opt,\n",
        "              metrics=['accuracy'])\n",
        "\n",
        "print(model.summary())"
      ]
    },
    {
      "cell_type": "markdown",
      "metadata": {
        "id": "_q5uKdshw-ul"
      },
      "source": [
        "# Test Improved CNN Model\n",
        "\n",
        "\n",
        "---\n",
        "\n"
      ]
    },
    {
      "cell_type": "code",
      "execution_count": 10,
      "metadata": {
        "colab": {
          "base_uri": "https://localhost:8080/",
          "height": 937
        },
        "id": "x7avjulYxG6i",
        "outputId": "ece2f5dc-64b7-4c96-8a4b-071088f8a03b"
      },
      "outputs": [
        {
          "name": "stdout",
          "output_type": "stream",
          "text": [
            "Epoch 1/10\n",
            "301/301 [==============================] - 92s 301ms/step - loss: 1.4774 - accuracy: 0.5429 - val_loss: 1.2715 - val_accuracy: 0.6714\n",
            "Epoch 2/10\n",
            "301/301 [==============================] - 84s 278ms/step - loss: 0.0718 - accuracy: 0.9764 - val_loss: 2.9532 - val_accuracy: 0.7000\n",
            "Epoch 3/10\n",
            "301/301 [==============================] - 85s 282ms/step - loss: 0.0531 - accuracy: 0.9837 - val_loss: 2.6142 - val_accuracy: 0.5286\n",
            "Epoch 4/10\n",
            "301/301 [==============================] - 90s 298ms/step - loss: 0.0696 - accuracy: 0.9847 - val_loss: 1.8265 - val_accuracy: 0.7143\n",
            "Epoch 5/10\n",
            "301/301 [==============================] - 87s 289ms/step - loss: 0.0268 - accuracy: 0.9927 - val_loss: 2.8699 - val_accuracy: 0.5238\n",
            "Epoch 6/10\n",
            "301/301 [==============================] - 93s 309ms/step - loss: 0.0162 - accuracy: 0.9957 - val_loss: 4.1860 - val_accuracy: 0.7000\n",
            "Epoch 7/10\n",
            "301/301 [==============================] - 84s 280ms/step - loss: 0.0536 - accuracy: 0.9864 - val_loss: 4.3443 - val_accuracy: 0.5048\n",
            "Epoch 8/10\n",
            "301/301 [==============================] - 85s 282ms/step - loss: 0.0468 - accuracy: 0.9927 - val_loss: 3.9640 - val_accuracy: 0.7000\n",
            "Epoch 9/10\n",
            "301/301 [==============================] - 94s 312ms/step - loss: 0.0038 - accuracy: 0.9983 - val_loss: 6.2805 - val_accuracy: 0.6095\n",
            "Epoch 10/10\n",
            "301/301 [==============================] - 89s 294ms/step - loss: 0.1156 - accuracy: 0.9801 - val_loss: 3.5688 - val_accuracy: 0.6238\n"
          ]
        },
        {
          "data": {
            "image/png": "[encoded data removed]",
            "text/plain": [
              "<Figure size 432x288 with 1 Axes>"
            ]
          },
          "metadata": {
            "needs_background": "light"
          },
          "output_type": "display_data"
        },
        {
          "data": {
            "image/png": "[encoded data removed]",
            "text/plain": [
              "<Figure size 432x288 with 1 Axes>"
            ]
          },
          "metadata": {
            "needs_background": "light"
          },
          "output_type": "display_data"
        },
        {
          "name": "stdout",
          "output_type": "stream",
          "text": [
            "Test accuracy for improved CNN: 0.6238095164299011\n"
          ]
        }
      ],
      "source": [
        "history = model.fit(train_batches,\n",
        "                    epochs=10,\n",
        "                    validation_data = test_batches)\n",
        "\n",
        "# Plot training accuracy\n",
        "plt.plot(history.history['accuracy'], 'o-', label='Improved CNN')\n",
        "plt.title('training accuracy')\n",
        "plt.ylabel('training accuracy')\n",
        "plt.xlabel('epoch')\n",
        "plt.legend(loc='lower right')\n",
        "plt.show()\n",
        "\n",
        "# Plot validation accuracy\n",
        "plt.plot(history.history['val_accuracy'], 'o-', label='Improved CNN')\n",
        "plt.title('validation accuracy')\n",
        "plt.ylabel('validation accuracy')\n",
        "plt.xlabel('epoch')\n",
        "plt.legend(loc='lower right')\n",
        "plt.show()\n",
        "\n",
        "print('Test accuracy for improved CNN: {}'.format(history.history['val_accuracy'][9]))"
      ]
    }
  ],
  "metadata": {
    "accelerator": "TPU",
    "colab": {
      "collapsed_sections": [],
      "name": "final_project.ipynb",
      "provenance": []
    },
    "kernelspec": {
      "display_name": "Python 3",
      "name": "python3"
    },
    "language_info": {
      "name": "python"
    }
  },
  "nbformat": 4,
  "nbformat_minor": 0
}
